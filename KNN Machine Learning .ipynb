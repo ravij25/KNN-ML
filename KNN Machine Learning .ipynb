{
 "cells": [
  {
   "cell_type": "markdown",
   "id": "93fbffa8",
   "metadata": {},
   "source": [
    "# K Nearest Neighbors - Regression"
   ]
  },
  {
   "cell_type": "markdown",
   "id": "5d981c34",
   "metadata": {},
   "source": [
    "The k-nearest neighbors (KNN) algorithm is a simple, easy-to-implement supervised machine learning algorithm that can be used to solve both classification and regression problems. The KNN algorithm assumes that similar things exist in close proximity. In other words, similar things are near to each other. KNN captures the idea of similarity (sometimes called distance, proximity, or closeness) with some mathematics we might have learned in our childhood— calculating the distance between points on a graph. There are other ways of calculating distance, and one way might be preferable depending on the problem we are solving. However, the straight-line distance (also called the Euclidean distance) is a popular and familiar choice."
   ]
  },
  {
   "cell_type": "code",
   "execution_count": 42,
   "id": "137c182f",
   "metadata": {},
   "outputs": [],
   "source": [
    "\n",
    "import pandas as pd\n",
    "import numpy as np\n",
    "from sklearn.neighbors import KNeighborsRegressor\n",
    "from sklearn.metrics import mean_squared_error\n",
    "from sklearn.model_selection import cross_val_score, KFold\n",
    "\n",
    "import matplotlib.pyplot as plt\n",
    "%matplotlib inline"
   ]
  },
  {
   "cell_type": "code",
   "execution_count": 43,
   "id": "e71f256e",
   "metadata": {},
   "outputs": [],
   "source": [
    "car_data=pd.read_csv(r\"E:\\AI\\data _sets\\audi.csv\")"
   ]
  },
  {
   "cell_type": "code",
   "execution_count": 44,
   "id": "19b7ed36",
   "metadata": {},
   "outputs": [
    {
     "data": {
      "text/plain": [
       "(10668, 9)"
      ]
     },
     "execution_count": 44,
     "metadata": {},
     "output_type": "execute_result"
    }
   ],
   "source": [
    "car_data.shape"
   ]
  },
  {
   "cell_type": "code",
   "execution_count": 45,
   "id": "f77ac96d",
   "metadata": {},
   "outputs": [
    {
     "data": {
      "text/html": [
       "<div>\n",
       "<style scoped>\n",
       "    .dataframe tbody tr th:only-of-type {\n",
       "        vertical-align: middle;\n",
       "    }\n",
       "\n",
       "    .dataframe tbody tr th {\n",
       "        vertical-align: top;\n",
       "    }\n",
       "\n",
       "    .dataframe thead th {\n",
       "        text-align: right;\n",
       "    }\n",
       "</style>\n",
       "<table border=\"1\" class=\"dataframe\">\n",
       "  <thead>\n",
       "    <tr style=\"text-align: right;\">\n",
       "      <th></th>\n",
       "      <th>model</th>\n",
       "      <th>year</th>\n",
       "      <th>price</th>\n",
       "      <th>transmission</th>\n",
       "      <th>mileage</th>\n",
       "      <th>fuelType</th>\n",
       "      <th>tax</th>\n",
       "      <th>mpg</th>\n",
       "      <th>engineSize</th>\n",
       "    </tr>\n",
       "  </thead>\n",
       "  <tbody>\n",
       "    <tr>\n",
       "      <th>0</th>\n",
       "      <td>A1</td>\n",
       "      <td>2017</td>\n",
       "      <td>12500</td>\n",
       "      <td>Manual</td>\n",
       "      <td>15735</td>\n",
       "      <td>Petrol</td>\n",
       "      <td>150</td>\n",
       "      <td>55.4</td>\n",
       "      <td>1.4</td>\n",
       "    </tr>\n",
       "    <tr>\n",
       "      <th>1</th>\n",
       "      <td>A6</td>\n",
       "      <td>2016</td>\n",
       "      <td>16500</td>\n",
       "      <td>Automatic</td>\n",
       "      <td>36203</td>\n",
       "      <td>Diesel</td>\n",
       "      <td>20</td>\n",
       "      <td>64.2</td>\n",
       "      <td>2.0</td>\n",
       "    </tr>\n",
       "    <tr>\n",
       "      <th>2</th>\n",
       "      <td>A1</td>\n",
       "      <td>2016</td>\n",
       "      <td>11000</td>\n",
       "      <td>Manual</td>\n",
       "      <td>29946</td>\n",
       "      <td>Petrol</td>\n",
       "      <td>30</td>\n",
       "      <td>55.4</td>\n",
       "      <td>1.4</td>\n",
       "    </tr>\n",
       "    <tr>\n",
       "      <th>3</th>\n",
       "      <td>A4</td>\n",
       "      <td>2017</td>\n",
       "      <td>16800</td>\n",
       "      <td>Automatic</td>\n",
       "      <td>25952</td>\n",
       "      <td>Diesel</td>\n",
       "      <td>145</td>\n",
       "      <td>67.3</td>\n",
       "      <td>2.0</td>\n",
       "    </tr>\n",
       "    <tr>\n",
       "      <th>4</th>\n",
       "      <td>A3</td>\n",
       "      <td>2019</td>\n",
       "      <td>17300</td>\n",
       "      <td>Manual</td>\n",
       "      <td>1998</td>\n",
       "      <td>Petrol</td>\n",
       "      <td>145</td>\n",
       "      <td>49.6</td>\n",
       "      <td>1.0</td>\n",
       "    </tr>\n",
       "  </tbody>\n",
       "</table>\n",
       "</div>"
      ],
      "text/plain": [
       "  model  year  price transmission  mileage fuelType  tax   mpg  engineSize\n",
       "0    A1  2017  12500       Manual    15735   Petrol  150  55.4         1.4\n",
       "1    A6  2016  16500    Automatic    36203   Diesel   20  64.2         2.0\n",
       "2    A1  2016  11000       Manual    29946   Petrol   30  55.4         1.4\n",
       "3    A4  2017  16800    Automatic    25952   Diesel  145  67.3         2.0\n",
       "4    A3  2019  17300       Manual     1998   Petrol  145  49.6         1.0"
      ]
     },
     "execution_count": 45,
     "metadata": {},
     "output_type": "execute_result"
    }
   ],
   "source": [
    "car_data.head()"
   ]
  },
  {
   "cell_type": "code",
   "execution_count": 46,
   "id": "a356a2ce",
   "metadata": {},
   "outputs": [
    {
     "data": {
      "text/html": [
       "<div>\n",
       "<style scoped>\n",
       "    .dataframe tbody tr th:only-of-type {\n",
       "        vertical-align: middle;\n",
       "    }\n",
       "\n",
       "    .dataframe tbody tr th {\n",
       "        vertical-align: top;\n",
       "    }\n",
       "\n",
       "    .dataframe thead th {\n",
       "        text-align: right;\n",
       "    }\n",
       "</style>\n",
       "<table border=\"1\" class=\"dataframe\">\n",
       "  <thead>\n",
       "    <tr style=\"text-align: right;\">\n",
       "      <th></th>\n",
       "      <th>count</th>\n",
       "      <th>mean</th>\n",
       "      <th>std</th>\n",
       "      <th>min</th>\n",
       "      <th>25%</th>\n",
       "      <th>50%</th>\n",
       "      <th>75%</th>\n",
       "      <th>max</th>\n",
       "    </tr>\n",
       "  </thead>\n",
       "  <tbody>\n",
       "    <tr>\n",
       "      <th>year</th>\n",
       "      <td>10668.0</td>\n",
       "      <td>2017.100675</td>\n",
       "      <td>2.167494</td>\n",
       "      <td>1997.0</td>\n",
       "      <td>2016.00</td>\n",
       "      <td>2017.0</td>\n",
       "      <td>2019.0</td>\n",
       "      <td>2020.0</td>\n",
       "    </tr>\n",
       "    <tr>\n",
       "      <th>price</th>\n",
       "      <td>10668.0</td>\n",
       "      <td>22896.685039</td>\n",
       "      <td>11714.841888</td>\n",
       "      <td>1490.0</td>\n",
       "      <td>15130.75</td>\n",
       "      <td>20200.0</td>\n",
       "      <td>27990.0</td>\n",
       "      <td>145000.0</td>\n",
       "    </tr>\n",
       "    <tr>\n",
       "      <th>mileage</th>\n",
       "      <td>10668.0</td>\n",
       "      <td>24827.244001</td>\n",
       "      <td>23505.257205</td>\n",
       "      <td>1.0</td>\n",
       "      <td>5968.75</td>\n",
       "      <td>19000.0</td>\n",
       "      <td>36464.5</td>\n",
       "      <td>323000.0</td>\n",
       "    </tr>\n",
       "    <tr>\n",
       "      <th>tax</th>\n",
       "      <td>10668.0</td>\n",
       "      <td>126.011436</td>\n",
       "      <td>67.170294</td>\n",
       "      <td>0.0</td>\n",
       "      <td>125.00</td>\n",
       "      <td>145.0</td>\n",
       "      <td>145.0</td>\n",
       "      <td>580.0</td>\n",
       "    </tr>\n",
       "    <tr>\n",
       "      <th>mpg</th>\n",
       "      <td>10668.0</td>\n",
       "      <td>50.770022</td>\n",
       "      <td>12.949782</td>\n",
       "      <td>18.9</td>\n",
       "      <td>40.90</td>\n",
       "      <td>49.6</td>\n",
       "      <td>58.9</td>\n",
       "      <td>188.3</td>\n",
       "    </tr>\n",
       "    <tr>\n",
       "      <th>engineSize</th>\n",
       "      <td>10668.0</td>\n",
       "      <td>1.930709</td>\n",
       "      <td>0.602957</td>\n",
       "      <td>0.0</td>\n",
       "      <td>1.50</td>\n",
       "      <td>2.0</td>\n",
       "      <td>2.0</td>\n",
       "      <td>6.3</td>\n",
       "    </tr>\n",
       "  </tbody>\n",
       "</table>\n",
       "</div>"
      ],
      "text/plain": [
       "              count          mean           std     min       25%      50%  \\\n",
       "year        10668.0   2017.100675      2.167494  1997.0   2016.00   2017.0   \n",
       "price       10668.0  22896.685039  11714.841888  1490.0  15130.75  20200.0   \n",
       "mileage     10668.0  24827.244001  23505.257205     1.0   5968.75  19000.0   \n",
       "tax         10668.0    126.011436     67.170294     0.0    125.00    145.0   \n",
       "mpg         10668.0     50.770022     12.949782    18.9     40.90     49.6   \n",
       "engineSize  10668.0      1.930709      0.602957     0.0      1.50      2.0   \n",
       "\n",
       "                75%       max  \n",
       "year         2019.0    2020.0  \n",
       "price       27990.0  145000.0  \n",
       "mileage     36464.5  323000.0  \n",
       "tax           145.0     580.0  \n",
       "mpg            58.9     188.3  \n",
       "engineSize      2.0       6.3  "
      ]
     },
     "execution_count": 46,
     "metadata": {},
     "output_type": "execute_result"
    }
   ],
   "source": [
    "car_data.describe().T"
   ]
  },
  {
   "cell_type": "code",
   "execution_count": 47,
   "id": "71103fea",
   "metadata": {},
   "outputs": [
    {
     "name": "stdout",
     "output_type": "stream",
     "text": [
      "<class 'pandas.core.frame.DataFrame'>\n",
      "RangeIndex: 10668 entries, 0 to 10667\n",
      "Data columns (total 9 columns):\n",
      " #   Column        Non-Null Count  Dtype  \n",
      "---  ------        --------------  -----  \n",
      " 0   model         10668 non-null  object \n",
      " 1   year          10668 non-null  int64  \n",
      " 2   price         10668 non-null  int64  \n",
      " 3   transmission  10668 non-null  object \n",
      " 4   mileage       10668 non-null  int64  \n",
      " 5   fuelType      10668 non-null  object \n",
      " 6   tax           10668 non-null  int64  \n",
      " 7   mpg           10668 non-null  float64\n",
      " 8   engineSize    10668 non-null  float64\n",
      "dtypes: float64(2), int64(4), object(3)\n",
      "memory usage: 750.2+ KB\n"
     ]
    }
   ],
   "source": [
    "car_data.info()"
   ]
  },
  {
   "cell_type": "code",
   "execution_count": 48,
   "id": "dd21a1af",
   "metadata": {},
   "outputs": [
    {
     "data": {
      "text/plain": [
       "array([' A1', ' A6', ' A4', ' A3', ' Q3', ' Q5', ' A5', ' S4', ' Q2',\n",
       "       ' A7', ' TT', ' Q7', ' RS6', ' RS3', ' A8', ' Q8', ' RS4', ' RS5',\n",
       "       ' R8', ' SQ5', ' S8', ' SQ7', ' S3', ' S5', ' A2', ' RS7'],\n",
       "      dtype=object)"
      ]
     },
     "execution_count": 48,
     "metadata": {},
     "output_type": "execute_result"
    }
   ],
   "source": [
    "car_data['model'].unique()"
   ]
  },
  {
   "cell_type": "code",
   "execution_count": 49,
   "id": "f96af957",
   "metadata": {},
   "outputs": [],
   "source": [
    "car_data['fuelType'].unique()\n",
    "car_data['fuelType'].replace('Petrol',0,inplace=True)\n",
    "car_data['fuelType'].replace('Diesel',1,inplace=True)\n",
    "car_data['fuelType'].replace('Hybrid',2,inplace=True)\n",
    "car_data['fuelType'].replace('Other',3,inplace=True)"
   ]
  },
  {
   "cell_type": "code",
   "execution_count": 50,
   "id": "0d55329c",
   "metadata": {},
   "outputs": [
    {
     "data": {
      "text/plain": [
       "array(['Manual', 'Automatic', 'Semi-Auto'], dtype=object)"
      ]
     },
     "execution_count": 50,
     "metadata": {},
     "output_type": "execute_result"
    }
   ],
   "source": [
    "car_data['transmission'].unique()"
   ]
  },
  {
   "cell_type": "code",
   "execution_count": 51,
   "id": "8a9d00d7",
   "metadata": {},
   "outputs": [],
   "source": [
    "car_data['transmission'].replace('Manual',0,inplace=True)"
   ]
  },
  {
   "cell_type": "code",
   "execution_count": 52,
   "id": "cb19be97",
   "metadata": {},
   "outputs": [],
   "source": [
    "car_data['transmission'].replace('Automatic',1,inplace=True)"
   ]
  },
  {
   "cell_type": "code",
   "execution_count": 54,
   "id": "574b5a98",
   "metadata": {},
   "outputs": [],
   "source": [
    "car_data['transmission'].replace('Semi-Auto',1,inplace=True)"
   ]
  },
  {
   "cell_type": "code",
   "execution_count": 55,
   "id": "7495b51a",
   "metadata": {},
   "outputs": [],
   "source": [
    "car_data['transmission'] = car_data['transmission'].astype(int)"
   ]
  },
  {
   "cell_type": "code",
   "execution_count": 56,
   "id": "15bf50d9",
   "metadata": {},
   "outputs": [
    {
     "data": {
      "text/html": [
       "<div>\n",
       "<style scoped>\n",
       "    .dataframe tbody tr th:only-of-type {\n",
       "        vertical-align: middle;\n",
       "    }\n",
       "\n",
       "    .dataframe tbody tr th {\n",
       "        vertical-align: top;\n",
       "    }\n",
       "\n",
       "    .dataframe thead th {\n",
       "        text-align: right;\n",
       "    }\n",
       "</style>\n",
       "<table border=\"1\" class=\"dataframe\">\n",
       "  <thead>\n",
       "    <tr style=\"text-align: right;\">\n",
       "      <th></th>\n",
       "      <th>year</th>\n",
       "      <th>price</th>\n",
       "      <th>transmission</th>\n",
       "      <th>mileage</th>\n",
       "      <th>fuelType</th>\n",
       "      <th>tax</th>\n",
       "      <th>mpg</th>\n",
       "      <th>engineSize</th>\n",
       "    </tr>\n",
       "  </thead>\n",
       "  <tbody>\n",
       "    <tr>\n",
       "      <th>count</th>\n",
       "      <td>10668.000000</td>\n",
       "      <td>10668.000000</td>\n",
       "      <td>10668.000000</td>\n",
       "      <td>10668.000000</td>\n",
       "      <td>10668.000000</td>\n",
       "      <td>10668.000000</td>\n",
       "      <td>10668.000000</td>\n",
       "      <td>10668.000000</td>\n",
       "    </tr>\n",
       "    <tr>\n",
       "      <th>mean</th>\n",
       "      <td>2017.100675</td>\n",
       "      <td>22896.685039</td>\n",
       "      <td>0.590457</td>\n",
       "      <td>24827.244001</td>\n",
       "      <td>0.528028</td>\n",
       "      <td>126.011436</td>\n",
       "      <td>50.770022</td>\n",
       "      <td>1.930709</td>\n",
       "    </tr>\n",
       "    <tr>\n",
       "      <th>std</th>\n",
       "      <td>2.167494</td>\n",
       "      <td>11714.841888</td>\n",
       "      <td>0.491772</td>\n",
       "      <td>23505.257205</td>\n",
       "      <td>0.504468</td>\n",
       "      <td>67.170294</td>\n",
       "      <td>12.949782</td>\n",
       "      <td>0.602957</td>\n",
       "    </tr>\n",
       "    <tr>\n",
       "      <th>min</th>\n",
       "      <td>1997.000000</td>\n",
       "      <td>1490.000000</td>\n",
       "      <td>0.000000</td>\n",
       "      <td>1.000000</td>\n",
       "      <td>0.000000</td>\n",
       "      <td>0.000000</td>\n",
       "      <td>18.900000</td>\n",
       "      <td>0.000000</td>\n",
       "    </tr>\n",
       "    <tr>\n",
       "      <th>25%</th>\n",
       "      <td>2016.000000</td>\n",
       "      <td>15130.750000</td>\n",
       "      <td>0.000000</td>\n",
       "      <td>5968.750000</td>\n",
       "      <td>0.000000</td>\n",
       "      <td>125.000000</td>\n",
       "      <td>40.900000</td>\n",
       "      <td>1.500000</td>\n",
       "    </tr>\n",
       "    <tr>\n",
       "      <th>50%</th>\n",
       "      <td>2017.000000</td>\n",
       "      <td>20200.000000</td>\n",
       "      <td>1.000000</td>\n",
       "      <td>19000.000000</td>\n",
       "      <td>1.000000</td>\n",
       "      <td>145.000000</td>\n",
       "      <td>49.600000</td>\n",
       "      <td>2.000000</td>\n",
       "    </tr>\n",
       "    <tr>\n",
       "      <th>75%</th>\n",
       "      <td>2019.000000</td>\n",
       "      <td>27990.000000</td>\n",
       "      <td>1.000000</td>\n",
       "      <td>36464.500000</td>\n",
       "      <td>1.000000</td>\n",
       "      <td>145.000000</td>\n",
       "      <td>58.900000</td>\n",
       "      <td>2.000000</td>\n",
       "    </tr>\n",
       "    <tr>\n",
       "      <th>max</th>\n",
       "      <td>2020.000000</td>\n",
       "      <td>145000.000000</td>\n",
       "      <td>1.000000</td>\n",
       "      <td>323000.000000</td>\n",
       "      <td>2.000000</td>\n",
       "      <td>580.000000</td>\n",
       "      <td>188.300000</td>\n",
       "      <td>6.300000</td>\n",
       "    </tr>\n",
       "  </tbody>\n",
       "</table>\n",
       "</div>"
      ],
      "text/plain": [
       "               year          price  transmission        mileage      fuelType  \\\n",
       "count  10668.000000   10668.000000  10668.000000   10668.000000  10668.000000   \n",
       "mean    2017.100675   22896.685039      0.590457   24827.244001      0.528028   \n",
       "std        2.167494   11714.841888      0.491772   23505.257205      0.504468   \n",
       "min     1997.000000    1490.000000      0.000000       1.000000      0.000000   \n",
       "25%     2016.000000   15130.750000      0.000000    5968.750000      0.000000   \n",
       "50%     2017.000000   20200.000000      1.000000   19000.000000      1.000000   \n",
       "75%     2019.000000   27990.000000      1.000000   36464.500000      1.000000   \n",
       "max     2020.000000  145000.000000      1.000000  323000.000000      2.000000   \n",
       "\n",
       "                tax           mpg    engineSize  \n",
       "count  10668.000000  10668.000000  10668.000000  \n",
       "mean     126.011436     50.770022      1.930709  \n",
       "std       67.170294     12.949782      0.602957  \n",
       "min        0.000000     18.900000      0.000000  \n",
       "25%      125.000000     40.900000      1.500000  \n",
       "50%      145.000000     49.600000      2.000000  \n",
       "75%      145.000000     58.900000      2.000000  \n",
       "max      580.000000    188.300000      6.300000  "
      ]
     },
     "execution_count": 56,
     "metadata": {},
     "output_type": "execute_result"
    }
   ],
   "source": [
    "car_data.describe()"
   ]
  },
  {
   "cell_type": "code",
   "execution_count": 57,
   "id": "07e21fb7",
   "metadata": {},
   "outputs": [
    {
     "data": {
      "text/html": [
       "<div>\n",
       "<style scoped>\n",
       "    .dataframe tbody tr th:only-of-type {\n",
       "        vertical-align: middle;\n",
       "    }\n",
       "\n",
       "    .dataframe tbody tr th {\n",
       "        vertical-align: top;\n",
       "    }\n",
       "\n",
       "    .dataframe thead th {\n",
       "        text-align: right;\n",
       "    }\n",
       "</style>\n",
       "<table border=\"1\" class=\"dataframe\">\n",
       "  <thead>\n",
       "    <tr style=\"text-align: right;\">\n",
       "      <th></th>\n",
       "      <th>year</th>\n",
       "      <th>mileage</th>\n",
       "      <th>tax</th>\n",
       "      <th>transmission</th>\n",
       "      <th>fuelType</th>\n",
       "      <th>mpg</th>\n",
       "      <th>engineSize</th>\n",
       "      <th>price</th>\n",
       "    </tr>\n",
       "  </thead>\n",
       "  <tbody>\n",
       "    <tr>\n",
       "      <th>0</th>\n",
       "      <td>2017</td>\n",
       "      <td>15735</td>\n",
       "      <td>150</td>\n",
       "      <td>0</td>\n",
       "      <td>0</td>\n",
       "      <td>55.4</td>\n",
       "      <td>1.4</td>\n",
       "      <td>12500</td>\n",
       "    </tr>\n",
       "    <tr>\n",
       "      <th>1</th>\n",
       "      <td>2016</td>\n",
       "      <td>36203</td>\n",
       "      <td>20</td>\n",
       "      <td>1</td>\n",
       "      <td>1</td>\n",
       "      <td>64.2</td>\n",
       "      <td>2.0</td>\n",
       "      <td>16500</td>\n",
       "    </tr>\n",
       "    <tr>\n",
       "      <th>2</th>\n",
       "      <td>2016</td>\n",
       "      <td>29946</td>\n",
       "      <td>30</td>\n",
       "      <td>0</td>\n",
       "      <td>0</td>\n",
       "      <td>55.4</td>\n",
       "      <td>1.4</td>\n",
       "      <td>11000</td>\n",
       "    </tr>\n",
       "    <tr>\n",
       "      <th>3</th>\n",
       "      <td>2017</td>\n",
       "      <td>25952</td>\n",
       "      <td>145</td>\n",
       "      <td>1</td>\n",
       "      <td>1</td>\n",
       "      <td>67.3</td>\n",
       "      <td>2.0</td>\n",
       "      <td>16800</td>\n",
       "    </tr>\n",
       "    <tr>\n",
       "      <th>4</th>\n",
       "      <td>2019</td>\n",
       "      <td>1998</td>\n",
       "      <td>145</td>\n",
       "      <td>0</td>\n",
       "      <td>0</td>\n",
       "      <td>49.6</td>\n",
       "      <td>1.0</td>\n",
       "      <td>17300</td>\n",
       "    </tr>\n",
       "  </tbody>\n",
       "</table>\n",
       "</div>"
      ],
      "text/plain": [
       "   year  mileage  tax  transmission  fuelType   mpg  engineSize  price\n",
       "0  2017    15735  150             0         0  55.4         1.4  12500\n",
       "1  2016    36203   20             1         1  64.2         2.0  16500\n",
       "2  2016    29946   30             0         0  55.4         1.4  11000\n",
       "3  2017    25952  145             1         1  67.3         2.0  16800\n",
       "4  2019     1998  145             0         0  49.6         1.0  17300"
      ]
     },
     "execution_count": 57,
     "metadata": {},
     "output_type": "execute_result"
    }
   ],
   "source": [
    "continuous_numeric = [ 'year', 'mileage','tax','transmission','fuelType','mpg','engineSize','price']\n",
    "\n",
    "numeric_cars = car_data[continuous_numeric].copy()\n",
    "numeric_cars.head()"
   ]
  },
  {
   "cell_type": "code",
   "execution_count": 58,
   "id": "40f19da0",
   "metadata": {},
   "outputs": [
    {
     "data": {
      "text/plain": [
       "year            0\n",
       "mileage         0\n",
       "tax             0\n",
       "transmission    0\n",
       "fuelType        0\n",
       "mpg             0\n",
       "engineSize      0\n",
       "price           0\n",
       "dtype: int64"
      ]
     },
     "execution_count": 58,
     "metadata": {},
     "output_type": "execute_result"
    }
   ],
   "source": [
    "numeric_cars.isnull().sum()"
   ]
  },
  {
   "cell_type": "code",
   "execution_count": 59,
   "id": "8f24aa27",
   "metadata": {},
   "outputs": [
    {
     "data": {
      "text/plain": [
       "year              int64\n",
       "mileage           int64\n",
       "tax               int64\n",
       "transmission      int32\n",
       "fuelType          int64\n",
       "mpg             float64\n",
       "engineSize      float64\n",
       "price             int64\n",
       "dtype: object"
      ]
     },
     "execution_count": 59,
     "metadata": {},
     "output_type": "execute_result"
    }
   ],
   "source": [
    "numeric_cars.dtypes"
   ]
  },
  {
   "cell_type": "markdown",
   "id": "0a55eb63",
   "metadata": {},
   "source": [
    "The k-nearest neighbors algorithm uses the euclidean distance to determine the closest neighbor.\n",
    "\n",
    "image.png\n",
    "\n",
    "Where q and p represent two rows and the subscript representing a column. However, each column have different scaling. For example, if we take row 2, and row 3. The price has a difference of 1650, while the difference in mileage is 21,609. The algorithm will give extra weight towards the difference in Mileage.\n",
    "\n",
    "That is why it is important to normalize the dataset into a unit vector. After normalization we'll have values from -1 to 1.\n",
    "\n",
    "Statistically, normalization is given asimage.png\n",
    "\n",
    "where df is any dataframe"
   ]
  },
  {
   "cell_type": "code",
   "execution_count": 60,
   "id": "a34fff0e",
   "metadata": {},
   "outputs": [
    {
     "data": {
      "text/html": [
       "<div>\n",
       "<style scoped>\n",
       "    .dataframe tbody tr th:only-of-type {\n",
       "        vertical-align: middle;\n",
       "    }\n",
       "\n",
       "    .dataframe tbody tr th {\n",
       "        vertical-align: top;\n",
       "    }\n",
       "\n",
       "    .dataframe thead th {\n",
       "        text-align: right;\n",
       "    }\n",
       "</style>\n",
       "<table border=\"1\" class=\"dataframe\">\n",
       "  <thead>\n",
       "    <tr style=\"text-align: right;\">\n",
       "      <th></th>\n",
       "      <th>year</th>\n",
       "      <th>mileage</th>\n",
       "      <th>tax</th>\n",
       "      <th>transmission</th>\n",
       "      <th>fuelType</th>\n",
       "      <th>mpg</th>\n",
       "      <th>engineSize</th>\n",
       "      <th>price</th>\n",
       "    </tr>\n",
       "  </thead>\n",
       "  <tbody>\n",
       "    <tr>\n",
       "      <th>0</th>\n",
       "      <td>-0.004377</td>\n",
       "      <td>-0.028149</td>\n",
       "      <td>0.041360</td>\n",
       "      <td>-0.590457</td>\n",
       "      <td>-0.264014</td>\n",
       "      <td>0.027332</td>\n",
       "      <td>-0.084239</td>\n",
       "      <td>12500</td>\n",
       "    </tr>\n",
       "    <tr>\n",
       "      <th>1</th>\n",
       "      <td>-0.047855</td>\n",
       "      <td>0.035219</td>\n",
       "      <td>-0.182778</td>\n",
       "      <td>0.409543</td>\n",
       "      <td>0.235986</td>\n",
       "      <td>0.079280</td>\n",
       "      <td>0.010999</td>\n",
       "      <td>16500</td>\n",
       "    </tr>\n",
       "    <tr>\n",
       "      <th>2</th>\n",
       "      <td>-0.047855</td>\n",
       "      <td>0.015848</td>\n",
       "      <td>-0.165537</td>\n",
       "      <td>-0.590457</td>\n",
       "      <td>-0.264014</td>\n",
       "      <td>0.027332</td>\n",
       "      <td>-0.084239</td>\n",
       "      <td>11000</td>\n",
       "    </tr>\n",
       "    <tr>\n",
       "      <th>3</th>\n",
       "      <td>-0.004377</td>\n",
       "      <td>0.003482</td>\n",
       "      <td>0.032739</td>\n",
       "      <td>0.409543</td>\n",
       "      <td>0.235986</td>\n",
       "      <td>0.097580</td>\n",
       "      <td>0.010999</td>\n",
       "      <td>16800</td>\n",
       "    </tr>\n",
       "    <tr>\n",
       "      <th>4</th>\n",
       "      <td>0.082579</td>\n",
       "      <td>-0.070679</td>\n",
       "      <td>0.032739</td>\n",
       "      <td>-0.590457</td>\n",
       "      <td>-0.264014</td>\n",
       "      <td>-0.006907</td>\n",
       "      <td>-0.147732</td>\n",
       "      <td>17300</td>\n",
       "    </tr>\n",
       "  </tbody>\n",
       "</table>\n",
       "</div>"
      ],
      "text/plain": [
       "       year   mileage       tax  transmission  fuelType       mpg  engineSize  \\\n",
       "0 -0.004377 -0.028149  0.041360     -0.590457 -0.264014  0.027332   -0.084239   \n",
       "1 -0.047855  0.035219 -0.182778      0.409543  0.235986  0.079280    0.010999   \n",
       "2 -0.047855  0.015848 -0.165537     -0.590457 -0.264014  0.027332   -0.084239   \n",
       "3 -0.004377  0.003482  0.032739      0.409543  0.235986  0.097580    0.010999   \n",
       "4  0.082579 -0.070679  0.032739     -0.590457 -0.264014 -0.006907   -0.147732   \n",
       "\n",
       "   price  \n",
       "0  12500  \n",
       "1  16500  \n",
       "2  11000  \n",
       "3  16800  \n",
       "4  17300  "
      ]
     },
     "execution_count": 60,
     "metadata": {},
     "output_type": "execute_result"
    }
   ],
   "source": [
    "normalized_cars = (numeric_cars - numeric_cars.mean())/(numeric_cars.max()-numeric_cars.min())\n",
    "normalized_cars['price'] = numeric_cars['price']\n",
    "normalized_cars.head()"
   ]
  },
  {
   "cell_type": "code",
   "execution_count": 61,
   "id": "72a7ec32",
   "metadata": {},
   "outputs": [],
   "source": [
    "def knn_train_test_uni(feature, target_column, df, k):\n",
    "    \n",
    "    # Randomize order of rows in data frame.\n",
    "    np.random.seed(1)\n",
    "    shuffled_index = np.random.permutation(df.index)\n",
    "    rand_df = df.reindex(shuffled_index)\n",
    "    \n",
    "\n",
    "    # Split the dataset\n",
    "    train_set = rand_df.iloc[0:int(len(rand_df)/2)]\n",
    "    test_set = rand_df.iloc[int(len(rand_df)/2):]\n",
    "    \n",
    "    # Train\n",
    "    knn = KNeighborsRegressor(n_neighbors=k)\n",
    "    knn.fit(train_set[[feature]], train_set[target_column])\n",
    "\n",
    "    \n",
    "    # Predict\n",
    "    predictions = knn.predict(test_set[[feature]])\n",
    "    \n",
    "    # Calculate RMSE\n",
    "    rmse = np.sqrt(mean_squared_error(test_set[target_column], predictions))\n",
    "\n",
    "    \n",
    "    return rmse"
   ]
  },
  {
   "cell_type": "code",
   "execution_count": 62,
   "id": "9d2321ed",
   "metadata": {},
   "outputs": [
    {
     "data": {
      "text/plain": [
       "{'year': [11556.89829608692,\n",
       "  11344.51395365374,\n",
       "  9420.772721188107,\n",
       "  9425.723099405213,\n",
       "  9463.23292473395,\n",
       "  9193.157678961586],\n",
       " 'mileage': [11971.910588972682,\n",
       "  11178.655244144971,\n",
       "  10304.547575792438,\n",
       "  9939.557268353066,\n",
       "  9824.805513352101,\n",
       "  9733.853209137533],\n",
       " 'tax': [12411.13418325852,\n",
       "  10403.059073209062,\n",
       "  10774.163886819824,\n",
       "  10568.656033068382,\n",
       "  10074.422399300312,\n",
       "  9936.678205896109],\n",
       " 'transmission': [12294.092165529779,\n",
       "  11269.960859403494,\n",
       "  11235.310023022545,\n",
       "  11201.514875242854,\n",
       "  10754.576506624187,\n",
       "  10475.489677344403],\n",
       " 'fuelType': [12010.049988851864,\n",
       "  11785.577888163118,\n",
       "  12507.651200978817,\n",
       "  12049.89308541203,\n",
       "  11945.382731131911,\n",
       "  11840.579591103462],\n",
       " 'mpg': [9429.651737876527,\n",
       "  7806.796392555858,\n",
       "  7582.086659564989,\n",
       "  7441.6527654119855,\n",
       "  7426.735920242204,\n",
       "  7394.448294295776],\n",
       " 'engineSize': [11986.317225459989,\n",
       "  10121.108035879928,\n",
       "  8866.751354269934,\n",
       "  8725.719084462336,\n",
       "  8612.374263223524,\n",
       "  8479.272265330053]}"
      ]
     },
     "execution_count": 62,
     "metadata": {},
     "output_type": "execute_result"
    }
   ],
   "source": [
    "from sklearn import metrics\n",
    "feature = normalized_cars.columns.drop('price')\n",
    "k_values = [1, 3, 5, 7, 9, 15]\n",
    "K_v = 2\n",
    "rmse_uni = {}\n",
    "current_rmse = []\n",
    "target_column = 'price'\n",
    "\n",
    "for feature in continuous_numeric[0:-1]:\n",
    "    for k in k_values:\n",
    "        current_rmse.append(knn_train_test_uni(feature, target_column, normalized_cars, k))\n",
    "        \n",
    "    rmse_uni[feature] = current_rmse\n",
    "    current_rmse = []                  \n",
    "rmse_uni"
   ]
  },
  {
   "cell_type": "code",
   "execution_count": 63,
   "id": "3dd6ba81",
   "metadata": {},
   "outputs": [
    {
     "data": {
      "image/png": "[encoded data removed]",
      "text/plain": [
       "<Figure size 432x288 with 1 Axes>"
      ]
     },
     "metadata": {
      "needs_background": "light"
     },
     "output_type": "display_data"
    }
   ],
   "source": [
    "fig, ax = plt.subplots(1)\n",
    "\n",
    "for key, values in rmse_uni.items():\n",
    "    ax.plot(k_values, values, label=key)\n",
    "    ax.set_xlabel('k value')\n",
    "    ax.set_ylabel('RMSE')\n",
    "    ax.set_title('RMSE for Each Parameter\\nvs. k value')\n",
    "    ax.tick_params(top=\"off\", left=\"off\", right=\"off\", bottom='off')\n",
    "    ax.legend(bbox_to_anchor=(1.5, 1), prop={'size': 11})\n",
    "    ax.spines['top'].set_visible(False)\n",
    "    ax.spines['right'].set_visible(False)\n",
    "    ax.spines['left'].set_visible(False)\n",
    "    ax.spines['bottom'].set_visible(False)\n"
   ]
  },
  {
   "cell_type": "markdown",
   "id": "fd641adf",
   "metadata": {},
   "source": [
    "Here the rmse ranges from 8000 to 12000 dollars\n",
    "\n"
   ]
  },
  {
   "cell_type": "code",
   "execution_count": 65,
   "id": "79294666",
   "metadata": {},
   "outputs": [
    {
     "name": "stdout",
     "output_type": "stream",
     "text": [
      "(5334, 7) (5334,)\n",
      "(5334, 7) (5334,)\n",
      "RMSE value for k=  1 is: 3585.769928263691\n",
      "RMSE value for k=  2 is: 3311.151260477242\n",
      "RMSE value for k=  3 is: 3281.7991501329125\n",
      "RMSE value for k=  4 is: 3202.9076568575574\n",
      "RMSE value for k=  5 is: 3181.9971604510997\n",
      "RMSE value for k=  6 is: 3203.79303417064\n",
      "RMSE value for k=  7 is: 3222.063468613869\n",
      "RMSE value for k=  8 is: 3239.862179965216\n",
      "RMSE value for k=  9 is: 3280.692143167937\n",
      "RMSE value for k=  10 is: 3329.1336745056938\n",
      "RMSE value for k=  11 is: 3377.240413823628\n",
      "RMSE value for k=  12 is: 3395.132182988426\n",
      "RMSE value for k=  13 is: 3431.113194344596\n",
      "RMSE value for k=  14 is: 3469.900367553671\n",
      "RMSE value for k=  15 is: 3510.9552644290743\n",
      "Mean Absolute Error: 2181.74\n",
      "Mean Squared Error: 12326806.87\n",
      "Root Mean Squared Error: 3510.96\n"
     ]
    }
   ],
   "source": [
    "from sklearn import datasets, linear_model\n",
    "from sklearn.model_selection import train_test_split\n",
    "from matplotlib import pyplot as plt\n",
    "from sklearn.neighbors import KNeighborsRegressor\n",
    "from sklearn.metrics import pairwise_distances\n",
    "from sklearn import neighbors\n",
    "from math import sqrt\n",
    "from sklearn.metrics import mean_squared_error\n",
    "from sklearn import metrics\n",
    "\n",
    "y= normalized_cars.price\n",
    "X= normalized_cars.drop('price',axis=1)\n",
    "\n",
    "X_train, X_test, y_train, y_test = train_test_split(X, y, test_size=0.5, random_state=42)\n",
    "\n",
    "print (X_train.shape, y_train.shape)\n",
    "print (X_test.shape, y_test.shape)\n",
    "\n",
    "#to store rmse values for different k\n",
    "rmse_val2 = [] \n",
    "for K in range(15):\n",
    "    K += 1\n",
    "    model = neighbors.KNeighborsRegressor(n_neighbors = K)\n",
    "    #fit the model\n",
    "    model.fit(X_train, y_train)  \n",
    "    pred=model.predict(X_test) #make prediction on test set\n",
    "    error = sqrt(mean_squared_error(y_test, pred)) #calculate rmse\n",
    "    rmse_val2.append(error) #store rmse values\n",
    "    print('RMSE value for k= ' , K , 'is:', error)\n",
    "\n",
    "   \n",
    "print('Mean Absolute Error:', round(metrics.mean_absolute_error(y_test, pred),2))\n",
    "print('Mean Squared Error:', round(metrics.mean_squared_error(y_test, pred),2))\n",
    "print('Root Mean Squared Error:', round(np.sqrt(metrics.mean_squared_error(y_test, pred)),2))\n"
   ]
  },
  {
   "cell_type": "code",
   "execution_count": 66,
   "id": "c34f38f0",
   "metadata": {},
   "outputs": [
    {
     "data": {
      "image/png": "[encoded data removed]",
      "text/plain": [
       "<Figure size 432x288 with 1 Axes>"
      ]
     },
     "metadata": {
      "needs_background": "light"
     },
     "output_type": "display_data"
    }
   ],
   "source": [
    "#plotting the rmse values against k values\n",
    "import matplotlib.pyplot as plt\n",
    "plt.plot(rmse_val2)\n",
    "plt.ylabel('RMSE')\n",
    "plt.xlabel('K values')\n",
    "plt.show()"
   ]
  },
  {
   "cell_type": "code",
   "execution_count": null,
   "id": "9ba0d21b",
   "metadata": {},
   "outputs": [],
   "source": []
  }
 ],
 "metadata": {
  "kernelspec": {
   "display_name": "Python 3 (ipykernel)",
   "language": "python",
   "name": "python3"
  },
  "language_info": {
   "codemirror_mode": {
    "name": "ipython",
    "version": 3
   },
   "file_extension": ".py",
   "mimetype": "text/x-python",
   "name": "python",
   "nbconvert_exporter": "python",
   "pygments_lexer": "ipython3",
   "version": "3.9.12"
  }
 },
 "nbformat": 4,
 "nbformat_minor": 5
}
